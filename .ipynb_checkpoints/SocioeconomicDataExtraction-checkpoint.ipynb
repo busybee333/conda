{
 "cells": [
  {
   "cell_type": "code",
   "execution_count": null,
   "metadata": {
    "collapsed": true
   },
   "outputs": [],
   "source": [
    "# Used to Extract the data from the Socio Economic CSV File \n",
    "# To train our program what specific communities are better or worse off than average\n",
    "import pandas as pd \n",
    "import numpy as np \n",
    "\n",
    "\n",
    "SocioeconomicData = pd.read_csv(\"SocioeconomicData.csv\")\n",
    "\n",
    "# We can use .desceibe() to find the benchmark levels of poverty per community. Compare community to the average and give weightage \n",
    "chicago_columns = [\n",
    "'community_area',\n",
    "'community_area_name', \n",
    "'%_housing_crowded', \n",
    "'%_households_below_poverty', \n",
    "'%_age16_unemployed',\n",
    "'%_age25_nohighschool',\n",
    "'%_not_working_age',\n",
    "'per_capita_income',\n",
    "'hardship_index']\n",
    "\n",
    "SocioeconomicData.columns = chicago_columns\n",
    "print(SocioeconomicData['%_housing_crowded'].describe()) \n",
    "print(SocioeconomicData['%_households_below_poverty'].describe())\n",
    "print(SocioeconomicData['%_age16_unemployed'].describe()) \n",
    "print(SocioeconomicData['%_age25_nohighschool'].describe()) \n",
    "print(SocioeconomicData['%_not_working_age'].describe()) \n",
    "print(SocioeconomicData['per_capita_income'].describe()) \n",
    "print(SocioeconomicData['hardship_index'].describe()) # Chicago aggregate has no hardship index  "
   ]
  }
 ],
 "metadata": {
  "kernelspec": {
   "display_name": "Python 3",
   "language": "python",
   "name": "python3"
  },
  "language_info": {
   "codemirror_mode": {
    "name": "ipython",
    "version": 3
   },
   "file_extension": ".py",
   "mimetype": "text/x-python",
   "name": "python",
   "nbconvert_exporter": "python",
   "pygments_lexer": "ipython3",
   "version": "3.6.3"
  }
 },
 "nbformat": 4,
 "nbformat_minor": 2
}
