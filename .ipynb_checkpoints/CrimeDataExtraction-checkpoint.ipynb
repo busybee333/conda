{
 "cells": [
  {
   "cell_type": "markdown",
   "metadata": {},
   "source": [
    "# Imports & Functions"
   ]
  },
  {
   "cell_type": "code",
   "execution_count": 7,
   "metadata": {
    "collapsed": true,
    "scrolled": true
   },
   "outputs": [],
   "source": [
    "from datetime import datetime, time\n",
    "import pandas as pd\n",
    "# from sodapy import Socrata\n",
    "import numpy as np \n",
    "import ast\n",
    "import json\n",
    "import pandasql\n",
    "import matplotlib.pyplot as plt"
   ]
  },
  {
   "cell_type": "code",
   "execution_count": 8,
   "metadata": {
    "collapsed": true,
    "scrolled": true
   },
   "outputs": [],
   "source": [
    "morningStart = time(6, 0, 0)\n",
    "morningEnd = time(12,0,0)\n",
    "afternoonStart = time(12,0,1)\n",
    "afternoonEnd = time(18,30,0)\n",
    "nightStart = time(18,31,0)\n",
    "nightEnd = time(23,59,59)\n",
    "midnightStart = time(0,0,0)\n",
    "midnightEnd = time(5,59,0)\n",
    "springStart = 3\n",
    "springEnd = 5\n",
    "summerStart = 6\n",
    "summerEnd = 8\n",
    "fallStart = 9\n",
    "fallEnd = 11\n",
    "winterStart = 12\n",
    "winterEnd = 2 \n",
    "\n",
    "# Time of Day Function\n",
    "def timeOfDayApplier(dateColumn):\n",
    "    DatetimeVersion = datetime.strptime(dateColumn,'%m/%d/%Y %I:%M:%S %p') # 'I' accounts for 12-hour format\n",
    "    \n",
    "    if morningStart <= DatetimeVersion.time() <= morningEnd:\n",
    "        return \"Morning\"\n",
    "    elif afternoonStart <= DatetimeVersion.time() <= afternoonEnd:\n",
    "        return \"Afternoon/Evening\"\n",
    "    elif nightStart <= DatetimeVersion.time() <= nightEnd:\n",
    "        return \"Night\"\n",
    "    elif midnightStart <= DatetimeVersion.time() <= midnightEnd:\n",
    "        return \"Midnight\"\n",
    "\n",
    "\n",
    "# Time of Day Function\n",
    "def seasonOfYear(dateColumn):\n",
    "    DatetimeVersion = datetime.strptime(dateColumn,'%m/%d/%Y %I:%M:%S %p') # 'I' accounts for 12-hour format\n",
    "     \n",
    "    if DatetimeVersion.month in [12,1,2]:\n",
    "        return \"Winter\"   \n",
    "    elif springStart <= DatetimeVersion.month <= springEnd:\n",
    "        return \"Spring\"\n",
    "    elif summerStart <= DatetimeVersion.month <= summerEnd:\n",
    "        return \"Summer\"\n",
    "    elif fallStart <= DatetimeVersion.month <= fallEnd:\n",
    "        return \"Fall\"\n",
    "\n",
    "# Time of Day Function\n",
    "def dayOfWeek(dateColumn):\n",
    "    DatetimeVersion = datetime.strptime(dateColumn,'%m/%d/%Y %I:%M:%S %p') # 'I' accounts for 12-hour format\n",
    "     \n",
    "    if DatetimeVersion.weekday() in [0,1,2,3,4]:\n",
    "        return \"Weekday\"   \n",
    "    else:\n",
    "        return \"Weekend\""
   ]
  },
  {
   "cell_type": "markdown",
   "metadata": {},
   "source": [
    "# Data Preprocessing"
   ]
  },
  {
   "cell_type": "code",
   "execution_count": 9,
   "metadata": {
    "collapsed": true,
    "scrolled": true
   },
   "outputs": [],
   "source": [
    "# Connecting police districts to community area names off of community area coddes\n",
    "CommunityToPoliceDistrict = []\n",
    "with open('PoliceDistrictToCommunityNamesOutput.txt') as fp:\n",
    "    for line in fp:\n",
    "        communityNum, communityName, policeDist  = line.strip().split(\":\")\n",
    "        communityName = communityName.strip()\n",
    "        CommunityToPoliceDistrict.append({\"Community_Area\": float(communityNum), \"Community_Name\": communityName,\n",
    "                                         \"Police_District\": policeDist})\n",
    "\n",
    "CommunityPoliceDistrictDF = pd.DataFrame(CommunityToPoliceDistrict)"
   ]
  },
  {
   "cell_type": "code",
   "execution_count": null,
   "metadata": {
    "collapsed": true
   },
   "outputs": [],
   "source": [
    "# Crime data from from the crimes csv with community area names for where the crime occured\n",
    "CrimeData = pd.read_csv(\"Crimes2001_2020.csv\",\n",
    "                       dtype={'ID': int, 'Case Number' : str, 'Date' : str, 'Block' : str, \n",
    "                             'IUCR' : str, 'Primary Type' : str, 'Description' : str, \n",
    "                             'Location Description' : str, 'Arrest' : str, 'Domestic' : str, 'Beat' : str, \n",
    "                             'District' : float, 'Ward' : float, 'Community Area' : float, 'FBI Code' : str, \n",
    "                              'X Coordinate' : str, 'Y Coordinate' : str, 'Year' : int,'Updated On' : str,\n",
    "                             'Latitude' : str, 'Longitude' : str, 'Location' : str}, )\n",
    "\n",
    "CrimeData.rename(columns = {'Community Area':'Community_Area'}, inplace = True)\n",
    "CrimeData = CrimeData.drop(['X Coordinate', 'Y Coordinate', 'Latitude', 'Longitude', 'Location'], axis = 1)\n",
    "SampledCrimeData = CrimeData\n",
    "SampledCrimeData = SampledCrimeData.join(CommunityPoliceDistrictDF.set_index('Community_Area'), on='Community_Area')"
   ]
  },
  {
   "cell_type": "code",
   "execution_count": 10,
   "metadata": {
    "scrolled": true
   },
   "outputs": [
    {
     "ename": "NameError",
     "evalue": "name 'SampledCrimeData' is not defined",
     "output_type": "error",
     "traceback": [
      "\u001b[0;31m---------------------------------------------------------------------------\u001b[0m",
      "\u001b[0;31mNameError\u001b[0m                                 Traceback (most recent call last)",
      "\u001b[0;32m<ipython-input-10-bac4f45be01e>\u001b[0m in \u001b[0;36m<module>\u001b[0;34m()\u001b[0m\n\u001b[1;32m     14\u001b[0m \u001b[0mSocioeconomicData\u001b[0m \u001b[0;34m=\u001b[0m \u001b[0mpd\u001b[0m\u001b[0;34m.\u001b[0m\u001b[0mread_csv\u001b[0m\u001b[0;34m(\u001b[0m\u001b[0;34m\"SocioeconomicData.csv\"\u001b[0m\u001b[0;34m)\u001b[0m\u001b[0;34m\u001b[0m\u001b[0m\n\u001b[1;32m     15\u001b[0m \u001b[0mSocioeconomicData\u001b[0m\u001b[0;34m.\u001b[0m\u001b[0mcolumns\u001b[0m \u001b[0;34m=\u001b[0m \u001b[0mcolumns\u001b[0m\u001b[0;34m\u001b[0m\u001b[0m\n\u001b[0;32m---> 16\u001b[0;31m \u001b[0mSampledSocioeconomicCrimeData\u001b[0m \u001b[0;34m=\u001b[0m \u001b[0mSampledCrimeData\u001b[0m\u001b[0;34m.\u001b[0m\u001b[0mjoin\u001b[0m\u001b[0;34m(\u001b[0m\u001b[0mSocioeconomicData\u001b[0m\u001b[0;34m.\u001b[0m\u001b[0mset_index\u001b[0m\u001b[0;34m(\u001b[0m\u001b[0;34m'Community_Area'\u001b[0m\u001b[0;34m)\u001b[0m\u001b[0;34m,\u001b[0m \u001b[0mon\u001b[0m\u001b[0;34m=\u001b[0m\u001b[0;34m'Community_Area'\u001b[0m\u001b[0;34m)\u001b[0m\u001b[0;34m\u001b[0m\u001b[0m\n\u001b[0m",
      "\u001b[0;31mNameError\u001b[0m: name 'SampledCrimeData' is not defined"
     ]
    }
   ],
   "source": [
    "# Used to Extract the data from the Socio Economic CSV File \n",
    "# To train our program what specific communities are better or worse off than average\n",
    "# We can use .describe() to find the benchmark levels of poverty per community. Compare community to the average and give weightage \n",
    "columns = [\n",
    "'Community_Area',\n",
    "'community_area_name', \n",
    "'%_housing_crowded', \n",
    "'%_households_below_poverty', \n",
    "'%_age16_unemployed',\n",
    "'%_age25_nohighschool',\n",
    "'%_not_working_age',\n",
    "'per_capita_income',\n",
    "'hardship_index']\n",
    "SocioeconomicData = pd.read_csv(\"SocioeconomicData.csv\")\n",
    "SocioeconomicData.columns = columns\n",
    "SampledSocioeconomicCrimeData = SampledCrimeData.join(SocioeconomicData.set_index('Community_Area'), on='Community_Area')"
   ]
  },
  {
   "cell_type": "code",
   "execution_count": null,
   "metadata": {
    "collapsed": true,
    "scrolled": true
   },
   "outputs": [],
   "source": [
    "# Adding census data to the sampled socioeconomic crime data df\n",
    "CensusData = pd.read_csv(\"census_data.csv\", sep ='\\t')\n",
    "#CensusData = CensusData[CensusData.columns[range(67)]]\n",
    "CensusData = CensusData.rename(columns={'Average Household Size' : \"Average_Household_Size\",\n",
    "                                       'Vacant Housing Units' : 'Vacant_Households'})\n",
    "\n",
    "SampledSocioeconomicCrimeData = SampledSocioeconomicCrimeData.merge(CensusData, on='Community_Area', how='left')\n",
    "SampledSocioeconomicCrimeData = SampledSocioeconomicCrimeData.drop(\n",
    "    ['Arrest', 'Domestic', 'FBI Code', 'IUCR', 'Beat', 'Ward',\n",
    "    'Case Number', 'Block', 'Primary Type', 'Description','Location Description', 'District', 'Community_Area', 'Year',\n",
    "       'Updated On', 'community_area_name', 'Police_District','Not Hispanic or Latino, American Indian and Alaska Native alone','Not Hispanic or Latino, Native Hawaiian and Other Pacific Islander alone', \n",
    "     'Not Hispanic or Latino, Some Other Race alone','Not Hispanic or Latino, Two or More Races'], axis = 1)\n",
    "\n",
    "SampledSocioeconomicCrimeData = SampledSocioeconomicCrimeData.dropna()\n",
    "SampledSocioeconomicCrimeData.rename(columns={'Not Hispanic or Latino, White alone' : 'Num_White',\n",
    "       'Not Hispanic or Latino, Black or African American alone' : \"Num_African_American\",\n",
    "       'Not Hispanic or Latino, Asian alone' : \"Num_Asian\",'Hispanic or Latino' : \"Num_Hispanic\"}, inplace = True)\n"
   ]
  },
  {
   "cell_type": "code",
   "execution_count": null,
   "metadata": {
    "collapsed": true,
    "scrolled": true
   },
   "outputs": [],
   "source": [
    "# Add time of day to the crime data and socioeconomic data\n",
    "SampledSocioeconomicCrimeData['TimeOfDay'] = SampledSocioeconomicCrimeData['Date'].map(timeOfDayApplier)\n",
    "SampledSocioeconomicCrimeData['Season'] = SampledSocioeconomicCrimeData['Date'].map(seasonOfYear)\n",
    "SampledSocioeconomicCrimeData['Weekday/Weekend'] = SampledSocioeconomicCrimeData['Date'].map(dayOfWeek)\n",
    "\n",
    "SampledCrimeData['TimeOfDay'] = SampledCrimeData['Date'].map(timeOfDayApplier)\n",
    "SampledCrimeData['Season'] = SampledCrimeData['Date'].map(seasonOfYear)\n",
    "SampledCrimeData['Weekday/Weekend'] = SampledCrimeData['Date'].map(dayOfWeek)"
   ]
  },
  {
   "cell_type": "code",
   "execution_count": null,
   "metadata": {
    "collapsed": true,
    "scrolled": true
   },
   "outputs": [],
   "source": [
    "# print(\"Columns: \", SampledCrimeData.columns)\n",
    "# print(SampledCrimeData.head())\n",
    "# print(\"Shape: \", SampledCrimeData.shape)"
   ]
  },
  {
   "cell_type": "code",
   "execution_count": null,
   "metadata": {
    "collapsed": true,
    "scrolled": true
   },
   "outputs": [],
   "source": [
    "# Prepare data for pandasql statement\n",
    "SampledSocioeconomicCrimeData = SampledSocioeconomicCrimeData.drop(['Community_Name_y'], axis = 1)\n",
    "SampledSocioeconomicCrimeData.rename(columns = {'Community_Name_x':'Community_Name', '%_housing_crowded':'percent_housing_crowded',\n",
    "                                   '%_households_below_poverty': 'percent_households_below_poverty',\n",
    "                                   '%_age16_unemployed' : 'percent_age16_unemployed',\n",
    "                                   '%_age25_nohighschool' : 'percent_age25_nohighschool'}, inplace = True)"
   ]
  },
  {
   "cell_type": "code",
   "execution_count": null,
   "metadata": {
    "scrolled": true
   },
   "outputs": [],
   "source": [
    "query = \"\"\"\n",
    "WITH cr AS\n",
    "(\n",
    "    SELECT DISTINCT\n",
    "    Community_Name\n",
    "    ,percent_age16_unemployed\n",
    "    ,percent_households_below_poverty\n",
    "    ,percent_age25_nohighschool\n",
    "    ,per_capita_income\n",
    "    ,hardship_index\n",
    "    ,Average_Household_Size\n",
    "    ,Vacant_Households\n",
    "    ,Num_Asian\n",
    "    ,Num_African_American\n",
    "    ,Num_White\n",
    "    ,TimeOfDay\n",
    "    ,Season\n",
    "    , COUNT(*) AS crimes\n",
    "    \n",
    "    FROM SampledSocioeconomicCrimeData\n",
    "    GROUP BY Community_Name, TimeOfDay, Season\n",
    ")\n",
    "SELECT \n",
    "    cr.Community_Name\n",
    "    ,cr.percent_age16_unemployed\n",
    "    ,cr.percent_households_below_poverty\n",
    "    ,cr.percent_age25_nohighschool\n",
    "    ,cr.per_capita_income\n",
    "    ,cr.hardship_index\n",
    "    ,cr.Average_Household_Size\n",
    "    ,cr.Vacant_Households\n",
    "    ,cr.Num_Asian\n",
    "    ,cr.Num_African_American\n",
    "    ,cr.Num_White\n",
    "    ,cr.TimeOfDay\n",
    "    ,cr.Season\n",
    "    ,cr.crimes Num_Crimes\n",
    "FROM cr\n",
    "ORDER BY Num_Crimes DESC, cr.Community_Name;\n",
    "\"\"\"\n",
    "AggregatedDataframe = pandasql.sqldf(query, globals())\n",
    "print(\"Sample aggregated data: \\n\")\n",
    "print(AggregatedDataframe[AggregatedDataframe['Community_Name'] == \"AUSTIN\"].head())\n",
    "print(\"# CRIMES TOTAL: \",sum(AggregatedDataframe.Num_Crimes))"
   ]
  },
  {
   "cell_type": "code",
   "execution_count": null,
   "metadata": {
    "scrolled": false
   },
   "outputs": [],
   "source": [
    "import seaborn as sns\n",
    "%matplotlib notebook\n",
    "\n",
    "corrmat = NumCrimes_NumUnemployed.corr()\n",
    "fig = plt.figure(figsize = (8, 8))\n",
    "sns.set(font_scale=0.8)\n",
    "sns.heatmap(corrmat, vmax = 0.8)\n",
    "plt.yticks(rotation=0, fontsize=7)\n",
    "plt.xticks(rotation=90, fontsize=7)\n",
    "plt.show()"
   ]
  },
  {
   "cell_type": "code",
   "execution_count": null,
   "metadata": {
    "collapsed": true,
    "scrolled": true
   },
   "outputs": [],
   "source": []
  },
  {
   "cell_type": "code",
   "execution_count": null,
   "metadata": {
    "scrolled": false
   },
   "outputs": [],
   "source": [
    "# For finding the most common type of crime\n",
    "PrimaryCrimeTypes = SampledCrimeData['Primary Type'].unique()\n",
    "PrimaryCrimeTypeCounts = pd.DataFrame()\n",
    "for c in PrimaryCrimeTypes:\n",
    "    df = SampledCrimeData[SampledCrimeData['Primary Type']==c]\n",
    "    PrimaryCrimeTypeCounts[c] = df['Community_Name'].value_counts().sort_index()\n",
    "\n",
    "# Contains counts of each primary type of crime for each community area\n",
    "PrimaryCrimeTypeCounts.fillna(0) \n",
    "print(\"Crime Counts by Type of Crime by Community Area\")\n",
    "PrimaryCrimeTypeCounts"
   ]
  },
  {
   "cell_type": "code",
   "execution_count": null,
   "metadata": {
    "scrolled": true
   },
   "outputs": [],
   "source": [
    "# Contains the most common type of crime for each community area\n",
    "MostCommonPrimaryCrimeType = pd.DataFrame(PrimaryCrimeTypeCounts.idxmax(axis=1))\n",
    "MostCommonPrimaryCrimeType.columns = ['Primary Type']\n",
    "print(MostCommonPrimaryCrimeType)"
   ]
  },
  {
   "cell_type": "code",
   "execution_count": null,
   "metadata": {
    "scrolled": false
   },
   "outputs": [],
   "source": [
    "plt.subplot(1, 2, 1)\n",
    "\n",
    "# Sums the most common type of crime for all community areas\n",
    "TopPrimaryCrimeTypeCounts = MostCommonPrimaryCrimeType['Primary Type'].value_counts()\n",
    "TopPrimaryCrimeTypeCounts.plot(kind='bar', title = 'Most Common Types of Crime for Each Community Area', figsize=(15,5))\n",
    "\n",
    "plt.subplot(1, 2, 2)\n",
    "\n",
    "# Sum of all of the crimes in Chicago\n",
    "SampledCrimeData['Primary Type'].value_counts().plot(kind='bar', title = 'All Crimes in Chicago', figsize=(15,5))\n",
    "plt.show()\n",
    "\n",
    "\n",
    "PrimaryCrimeTypeCounts.plot.bar(stacked=True, figsize=(20,20), title = 'All Crimes in Chicago by Community Area')\n",
    "plt.show()"
   ]
  },
  {
   "cell_type": "code",
   "execution_count": null,
   "metadata": {
    "scrolled": true
   },
   "outputs": [],
   "source": [
    "# For finding the most common time/season/part of week for crimes by primary crime type\n",
    "\n",
    "# By time\n",
    "MostCommonCrimeTimeCounts = pd.DataFrame()\n",
    "CrimeTimes = SampledCrimeData['TimeOfDay'].unique()\n",
    "for c in CrimeTimes:\n",
    "    df = SampledCrimeData[SampledCrimeData['TimeOfDay']==c]\n",
    "    MostCommonCrimeTimeCounts[c] = df['Primary Type'].value_counts().sort_index()\n",
    "MostCommonCrimeTimeCounts.fillna(0) \n",
    "MostCommonCrimeTime = pd.DataFrame(MostCommonCrimeTimeCounts.idxmax(axis=1))\n",
    "MostCommonCrimeTime.columns = ['TimeOfDay']\n",
    "print(MostCommonCrimeTime)\n",
    "    \n",
    "# By Season\n",
    "MostCommonCrimeSeasonCounts = pd.DataFrame()\n",
    "CrimeSesons = SampledCrimeData['Season'].unique()\n",
    "for c in CrimeSesons:\n",
    "    df = SampledCrimeData[SampledCrimeData['Season']==c]\n",
    "    MostCommonCrimeSeasonCounts[c] = df['Primary Type'].value_counts().sort_index()\n",
    "MostCommonCrimeSeasonCounts.fillna(0)\n",
    "MostCommonCrimeSeason = pd.DataFrame(MostCommonCrimeSeasonCounts.idxmax(axis=1))\n",
    "MostCommonCrimeSeason.columns = ['Season']\n",
    "print(MostCommonCrimeSeason)\n",
    "    \n",
    "# By time of week\n",
    "MostCommonCrimeWeekCounts = pd.DataFrame()\n",
    "CrimeWeek = SampledCrimeData['Weekday/Weekend'].unique()\n",
    "for c in CrimeWeek:\n",
    "    df = SampledCrimeData[SampledCrimeData['Weekday/Weekend']==c]\n",
    "    MostCommonCrimeWeekCounts[c] = df['Primary Type'].value_counts().sort_index()\n",
    "MostCommonCrimeWeekCounts.fillna(0)\n",
    "MostCommonCrimeWeek = pd.DataFrame(MostCommonCrimeWeekCounts.idxmax(axis=1))\n",
    "MostCommonCrimeWeek.columns = ['Weekday/Weekend']\n",
    "print(MostCommonCrimeTime)"
   ]
  },
  {
   "cell_type": "code",
   "execution_count": null,
   "metadata": {
    "scrolled": false
   },
   "outputs": [],
   "source": [
    "# For finding the most common time/season/part of week for crimes by community area\n",
    "\n",
    "# By time\n",
    "MostCommonCrimeTimeCountsCA = pd.DataFrame()\n",
    "CrimeTimesCA = SampledCrimeData['TimeOfDay'].unique()\n",
    "for c in CrimeTimesCA:\n",
    "    df = SampledCrimeData[SampledCrimeData['TimeOfDay']==c]\n",
    "    MostCommonCrimeTimeCountsCA[c] = df['Community_Name'].value_counts().sort_index()\n",
    "MostCommonCrimeTimeCountsCA.fillna(0) \n",
    "MostCommonCrimeTimeCA = pd.DataFrame(MostCommonCrimeTimeCountsCA.idxmax(axis=1))\n",
    "MostCommonCrimeTimeCA.columns = ['TimeOfDay']\n",
    "print(MostCommonCrimeTimeCA)\n",
    "    \n",
    "# By Season\n",
    "MostCommonCrimeSeasonCountsCA = pd.DataFrame()\n",
    "CrimeSesonsCA = SampledCrimeData['Season'].unique()\n",
    "for c in CrimeSesonsCA:\n",
    "    df = SampledCrimeData[SampledCrimeData['Season']==c]\n",
    "    MostCommonCrimeSeasonCountsCA[c] = df['Community_Name'].value_counts().sort_index()\n",
    "MostCommonCrimeSeasonCountsCA.fillna(0)\n",
    "MostCommonCrimeSeasonCA = pd.DataFrame(MostCommonCrimeSeasonCountsCA.idxmax(axis=1))\n",
    "MostCommonCrimeSeasonCA.columns = ['Season']\n",
    "print(MostCommonCrimeSeasonCA)\n",
    "    \n",
    "# By time of week\n",
    "MostCommonCrimeWeekCountsCA = pd.DataFrame()\n",
    "CrimeWeekCA = SampledCrimeData['Weekday/Weekend'].unique()\n",
    "for c in CrimeWeekCA:\n",
    "    df = SampledCrimeData[SampledCrimeData['Weekday/Weekend']==c]\n",
    "    MostCommonCrimeWeekCountsCA[c] = df['Community_Name'].value_counts().sort_index()\n",
    "MostCommonCrimeWeekCountsCA.fillna(0)\n",
    "MostCommonCrimeWeekCA = pd.DataFrame(MostCommonCrimeWeekCountsCA.idxmax(axis=1))\n",
    "MostCommonCrimeWeekCA.columns = ['Weekday/Weekend']\n",
    "print(MostCommonCrimeTimeCA)"
   ]
  },
  {
   "cell_type": "code",
   "execution_count": null,
   "metadata": {
    "collapsed": true,
    "scrolled": true
   },
   "outputs": [],
   "source": [
    "plt.subplot(1, 3, 1)\n",
    "MostCommonCrimeTimeCounts = MostCommonCrimeTime['TimeOfDay'].value_counts()\n",
    "MostCommonCrimeTimeCounts.plot(kind='bar', title = 'most common time by primary crime type', figsize=(15,5))\n",
    "\n",
    "plt.subplot(1, 3, 2)\n",
    "MostCommonCrimeSeasonCounts = MostCommonCrimeSeason['Season'].value_counts()\n",
    "MostCommonCrimeSeasonCounts.plot(kind='bar', title = 'most common season by primary crime type', figsize=(15,5))\n",
    "\n",
    "plt.subplot(1, 3, 3)\n",
    "MostCommonCrimeWeekCounts = MostCommonCrimeWeek['Weekday/Weekend'].value_counts()\n",
    "MostCommonCrimeWeekCounts.plot(kind='bar', title = 'most time of week by primary crime type', figsize=(15,5))\n",
    "plt.show()\n",
    "\n",
    "plt.subplot(2, 3, 1)\n",
    "MostCommonCrimeTimeCountsCA = MostCommonCrimeTimeCA['TimeOfDay'].value_counts()\n",
    "MostCommonCrimeTimeCountsCA.plot(kind='bar', title = 'most common time by community area', figsize=(15,5))\n",
    "\n",
    "plt.subplot(2, 3, 2)\n",
    "MostCommonCrimeSeasonCountsCA = MostCommonCrimeSeasonCA['Season'].value_counts()\n",
    "MostCommonCrimeSeasonCountsCA.plot(kind='bar', title = 'most common season by community area', figsize=(15,5))\n",
    "\n",
    "plt.subplot(2, 3, 3)\n",
    "MostCommonCrimeWeekCountsCA = MostCommonCrimeWeekCA['Weekday/Weekend'].value_counts()\n",
    "MostCommonCrimeWeekCountsCA.plot(kind='bar', title = 'most time of week by community area', figsize=(15,5))\n",
    "plt.show()"
   ]
  },
  {
   "cell_type": "code",
   "execution_count": null,
   "metadata": {
    "scrolled": false
   },
   "outputs": [],
   "source": [
    "# For seeing all the times crimes are committed by community area\n",
    "CrimeTimeCountsCA = pd.DataFrame()\n",
    "for c in CrimeTimesCA:\n",
    "    df = SampledCrimeData[SampledCrimeData['TimeOfDay']==c]\n",
    "    CrimeTimeCountsCA[c] = df['Community_Name'].value_counts().sort_index()\n",
    "CrimeTimeCountsCA.plot.bar(stacked=True, figsize=(15,15), title = 'All Crime Times in Chicago by Community Area')\n",
    "\n",
    "plt.yticks(rotation=0, fontsize=7)\n",
    "plt.xticks(rotation=90, fontsize=7)\n",
    "plt.show()"
   ]
  },
  {
   "cell_type": "code",
   "execution_count": null,
   "metadata": {
    "scrolled": false
   },
   "outputs": [],
   "source": [
    "# For seeing all the seasons crimes are committed by community area\n",
    "CrimeSeasonCountsCA = pd.DataFrame()\n",
    "for c in CrimeSesonsCA:\n",
    "    df = SampledCrimeData[SampledCrimeData['Season']==c]\n",
    "    CrimeSeasonCountsCA[c] = df['Community_Name'].value_counts().sort_index()\n",
    "CrimeSeasonCountsCA.plot.bar(stacked=True, figsize=(15,15), title = 'All Crime Seasons in Chicago by Community Area')\n",
    "\n",
    "plt.yticks(rotation=0, fontsize=7)\n",
    "plt.xticks(rotation=90, fontsize=7)\n",
    "plt.show()"
   ]
  },
  {
   "cell_type": "code",
   "execution_count": null,
   "metadata": {
    "scrolled": false
   },
   "outputs": [],
   "source": [
    "# For seeing all the time of week crimes are committed by community area\n",
    "CrimeWeekCountsCA = pd.DataFrame()\n",
    "for c in CrimeWeekCA:\n",
    "    df = SampledCrimeData[SampledCrimeData['Weekday/Weekend']==c]\n",
    "    CrimeWeekCountsCA[c] = df['Community_Name'].value_counts().sort_index()\n",
    "CrimeWeekCountsCA.plot.bar(stacked=True, figsize=(15,15), title = 'All Crime Times of Week in Chicago by Community Area')\n",
    "\n",
    "plt.yticks(rotation=0, fontsize=7)\n",
    "plt.xticks(rotation=90, fontsize=7)\n",
    "plt.show()"
   ]
  },
  {
   "cell_type": "code",
   "execution_count": null,
   "metadata": {
    "scrolled": false
   },
   "outputs": [],
   "source": [
    "# For seeing all the times crimes are committed by primary type\n",
    "CrimeTimeCounts = pd.DataFrame()\n",
    "for c in CrimeTimes:\n",
    "    df = SampledCrimeData[SampledCrimeData['TimeOfDay']==c]\n",
    "    CrimeTimeCounts[c] = df['Community_Name'].value_counts().sort_index()\n",
    "CrimeTimeCounts.plot.bar(stacked=True, figsize=(15,15), title = 'All Crime Times in Chicago by Primary Type')\n",
    "\n",
    "plt.yticks(rotation=0, fontsize=7)\n",
    "plt.xticks(rotation=90, fontsize=7)\n",
    "plt.show()"
   ]
  },
  {
   "cell_type": "code",
   "execution_count": null,
   "metadata": {
    "scrolled": false
   },
   "outputs": [],
   "source": [
    "# For seeing all the seasons crimes are committed by primary type\n",
    "CrimeSeasonCounts = pd.DataFrame()\n",
    "for c in CrimeSesons:\n",
    "    df = SampledCrimeData[SampledCrimeData['Season']==c]\n",
    "    CrimeSeasonCounts[c] = df['Community_Name'].value_counts().sort_index()\n",
    "CrimeSeasonCounts.plot.bar(stacked=True, figsize=(15,15), title = 'All Crime Seasons in Chicago by Primary Type')\n",
    "\n",
    "plt.yticks(rotation=0, fontsize=7)\n",
    "plt.xticks(rotation=90, fontsize=7)\n",
    "plt.show()"
   ]
  },
  {
   "cell_type": "code",
   "execution_count": null,
   "metadata": {
    "scrolled": false
   },
   "outputs": [],
   "source": [
    "# For seeing all the time of week crimes are committed by primary type\n",
    "CrimeWeekCounts = pd.DataFrame()\n",
    "for c in CrimeWeek:\n",
    "    df = SampledCrimeData[SampledCrimeData['Weekday/Weekend']==c]\n",
    "    CrimeWeekCounts[c] = df['Community_Name'].value_counts().sort_index()\n",
    "CrimeWeekCounts.plot.bar(stacked=True, figsize=(15,15), title = 'All Crime Times of Week in Chicago by Primary Type')\n",
    "\n",
    "plt.yticks(rotation=0, fontsize=7)\n",
    "plt.xticks(rotation=90, fontsize=7)\n",
    "plt.show()"
   ]
  },
  {
   "cell_type": "code",
   "execution_count": null,
   "metadata": {
    "collapsed": true,
    "scrolled": true
   },
   "outputs": [],
   "source": []
  }
 ],
 "metadata": {
  "kernelspec": {
   "display_name": "Python 3",
   "language": "python",
   "name": "python3"
  },
  "language_info": {
   "codemirror_mode": {
    "name": "ipython",
    "version": 3
   },
   "file_extension": ".py",
   "mimetype": "text/x-python",
   "name": "python",
   "nbconvert_exporter": "python",
   "pygments_lexer": "ipython3",
   "version": "3.6.3"
  }
 },
 "nbformat": 4,
 "nbformat_minor": 2
}
