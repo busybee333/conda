{
 "cells": [
  {
   "cell_type": "code",
   "execution_count": 5,
   "metadata": {},
   "outputs": [
    {
     "name": "stdout",
     "output_type": "stream",
     "text": [
      "   arrest  beat                   block case_number community_area  \\\n",
      "0   False  2423       016XX W CHASE AVE    JD145456              1   \n",
      "1    True  2521  051XX W WELLINGTON AVE    JD145204             19   \n",
      "2   False  0834      084XX S PULASKI RD    JD145243             70   \n",
      "3   False  1822       010XX N HOOKER ST    JD146857              8   \n",
      "4    True  0621       075XX S PEORIA ST    JD145196             71   \n",
      "\n",
      "                      date              description district  domestic  \\\n",
      "0  2020-02-08T23:59:00.000           UNLAWFUL ENTRY      024     False   \n",
      "1  2020-02-08T23:57:00.000               TO VEHICLE      025     False   \n",
      "2  2020-02-08T23:57:00.000    CRIMINAL SEXUAL ABUSE      008     False   \n",
      "3  2020-02-08T23:53:00.000               AUTOMOBILE      018     False   \n",
      "4  2020-02-08T23:52:00.000  DOMESTIC BATTERY SIMPLE      006      True   \n",
      "\n",
      "  fbi_code  ...       latitude  \\\n",
      "0       05  ...   42.013831423   \n",
      "1       26  ...   41.935076732   \n",
      "2       17  ...   41.739046224   \n",
      "3       07  ...   41.900545682   \n",
      "4      08B  ...   41.757122147   \n",
      "\n",
      "                                            location    location_description  \\\n",
      "0  {'latitude': '42.013831423', 'longitude': '-87...        RESIDENCE-GARAGE   \n",
      "1  {'latitude': '41.935076732', 'longitude': '-87...  VEHICLE NON-COMMERCIAL   \n",
      "2  {'latitude': '41.739046224', 'longitude': '-87...               APARTMENT   \n",
      "3  {'latitude': '41.900545682', 'longitude': '-87...                  STREET   \n",
      "4  {'latitude': '41.757122147', 'longitude': '-87...               RESIDENCE   \n",
      "\n",
      "       longitude         primary_type               updated_on ward  \\\n",
      "0  -87.670779489             BURGLARY  2020-02-15T15:48:50.000   49   \n",
      "1  -87.754766071    CRIMINAL TRESPASS  2020-02-15T15:48:50.000   31   \n",
      "2  -87.721577659          SEX OFFENSE  2020-02-15T15:48:50.000   18   \n",
      "3  -87.648446696  MOTOR VEHICLE THEFT  2020-02-15T15:48:50.000   27   \n",
      "4  -87.646634887              BATTERY  2020-02-15T15:48:50.000   17   \n",
      "\n",
      "  x_coordinate y_coordinate  year  \n",
      "0      1164302      1948327  2020  \n",
      "1      1141672      1919463  2020  \n",
      "2      1151211      1848093  2020  \n",
      "3      1170701      1907093  2020  \n",
      "4      1171612      1854834  2020  \n",
      "\n",
      "[5 rows x 22 columns]\n",
      "Index(['arrest', 'beat', 'block', 'case_number', 'community_area', 'date',\n",
      "       'description', 'district', 'domestic', 'fbi_code', 'id', 'iucr',\n",
      "       'latitude', 'location', 'location_description', 'longitude',\n",
      "       'primary_type', 'updated_on', 'ward', 'x_coordinate', 'y_coordinate',\n",
      "       'year'],\n",
      "      dtype='object')\n",
      "['1' '19' '70' '8' '71' '20' '6' '52']\n"
     ]
    }
   ],
   "source": [
    "#!/usr/bin/env python\n",
    "# make sure to install these packages before running:\n",
    "# pip install pandas\n",
    "# pip install sodapy\n",
    "\n",
    "import pandas as pd\n",
    "from sodapy import Socrata\n",
    "\n",
    "# Example authenticated client (needed for non-public datasets):\n",
    "MyAppToken = \"ApqQuNvJaYqJe3GD0AovrjgS5\"\n",
    "client = Socrata(\"data.cityofchicago.org\",\n",
    "                  MyAppToken,\n",
    "                  username=\"shreyas.talamakki@gmail.com\",\n",
    "                  password=\"CSE4822020!\")\n",
    "client.timeout = 50\n",
    "\n",
    "# First 10 results, returned as JSON from API / converted to Python list of\n",
    "# dictionaries by sodapy.\n",
    "results = client.get(\"ijzp-q8t2\", limit=10)\n",
    "\n",
    "\n",
    "# Convert to pandas DataFrame\n",
    "results_df = pd.DataFrame.from_records(results)\n",
    "results_df.drop(results_df.columns[[0,1,2,3,4,5,6,7]],axis=1,inplace=True)\n",
    "print(results_df.head())\n",
    "print(results_df.columns)\n",
    "print(results_df.community_area.unique())"
   ]
  },
  {
   "cell_type": "code",
   "execution_count": null,
   "metadata": {
    "collapsed": true
   },
   "outputs": [],
   "source": []
  }
 ],
 "metadata": {
  "kernelspec": {
   "display_name": "Python 3",
   "language": "python",
   "name": "python3"
  },
  "language_info": {
   "codemirror_mode": {
    "name": "ipython",
    "version": 3
   },
   "file_extension": ".py",
   "mimetype": "text/x-python",
   "name": "python",
   "nbconvert_exporter": "python",
   "pygments_lexer": "ipython3",
   "version": "3.6.3"
  }
 },
 "nbformat": 4,
 "nbformat_minor": 2
}
