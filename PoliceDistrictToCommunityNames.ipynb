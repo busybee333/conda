{
 "cells": [
  {
   "cell_type": "code",
   "execution_count": 14,
   "metadata": {},
   "outputs": [
    {
     "name": "stdout",
     "output_type": "stream",
     "text": [
      "done\n"
     ]
    }
   ],
   "source": [
    "# Script to Open the CommunityNumber_CommunityName file\n",
    "# and create a dictionary for the links between the Police\n",
    "# Districts and Community Names \n",
    "\n",
    "\n",
    "# Sources: https://news.wttw.com/sites/default/files/Chicago%20Police%20Districts.pdf\n",
    "# Sources: https://home.chicagopolice.org/about/police-districts/\n",
    "import operator\n",
    "\n",
    "CommunityNumberToCommunityName = {}\n",
    "PoliceDistrictToCommunityName = {}\n",
    "CommunityNumberToPoliceDistrict = {} # KEY: Community #, Value: (CommunityName, PoliceDistrict)\n",
    "PoliceDistrictToCommunityNumber = \\\n",
    "{\n",
    " 1 : [32,33], 2: [37,38,40], \n",
    " 3: [42,69,43], 4: [45,46,47,48,51,52,55],\n",
    " 5 : [49,50,53,54], 6: [71,44], \n",
    " 7: [67,68], 8: [56,57,62,64,65,66,70],\n",
    " 9 : [58,59,60,61,63], 10: [29,30], \n",
    " 11: [23,26,27], 12: [28,31],\n",
    " 13: [24], 14: [21,22], \n",
    " 15: [25], 16: [9,10,11,12,15,17,76], \n",
    " 17: [13,14,16], 18: [7,8], \n",
    " 19: [5], 20: [4,77], \n",
    " 21: [34,35,36,39,41], 22: [72,73,74,75],\n",
    " 23: [3, 6], 24: [1,2], 25: [18,19,20]\n",
    "}\n",
    "\n",
    "with open('CommunityNumber_CommunityName.txt') as fp:\n",
    "    for line in fp:\n",
    "        TwoElements = line.strip().split()\n",
    "        Number = int(TwoElements[0])\n",
    "        Name = \" \".join(TwoElements[1:])\n",
    "        \n",
    "        CommunityNumberToCommunityName[Number] = Name\n",
    "        \n",
    "    \n",
    "for dNum, v in PoliceDistrictToCommunityNumber.items():\n",
    "    for community_number in v:\n",
    "        PoliceDistrictToCommunityName.setdefault(dNum,[]).append(CommunityNumberToCommunityName[community_number])\n",
    "        CommunityNumberToPoliceDistrict[community_number] = [CommunityNumberToCommunityName[community_number],dNum]\n",
    "\n",
    "f = open(\"PoliceDistrictToCommunityNamesOutput.txt\", \"w\")\n",
    "for communityNumber,commNamePoliceDist in sorted(CommunityNumberToPoliceDistrict.items(), key=operator.itemgetter(0)):    \n",
    "    f.write('{} : {} : {}\\n'.format(communityNumber, commNamePoliceDist[0],commNamePoliceDist[1]))\n",
    "\n",
    "f.close()\n",
    "print(\"done\")\n"
   ]
  },
  {
   "cell_type": "code",
   "execution_count": null,
   "metadata": {
    "collapsed": true
   },
   "outputs": [],
   "source": []
  }
 ],
 "metadata": {
  "kernelspec": {
   "display_name": "Python 3",
   "language": "python",
   "name": "python3"
  },
  "language_info": {
   "codemirror_mode": {
    "name": "ipython",
    "version": 3
   },
   "file_extension": ".py",
   "mimetype": "text/x-python",
   "name": "python",
   "nbconvert_exporter": "python",
   "pygments_lexer": "ipython3",
   "version": "3.6.3"
  }
 },
 "nbformat": 4,
 "nbformat_minor": 2
}
